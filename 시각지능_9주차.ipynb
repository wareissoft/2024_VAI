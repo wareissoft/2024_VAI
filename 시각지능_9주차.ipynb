{
  "cells": [
    {
      "cell_type": "markdown",
      "metadata": {
        "id": "view-in-github",
        "colab_type": "text"
      },
      "source": [
        "<a href=\"https://colab.research.google.com/github/wareissoft/2024_VAI/blob/main/%EC%8B%9C%EA%B0%81%EC%A7%80%EB%8A%A5_9%EC%A3%BC%EC%B0%A8.ipynb\" target=\"_parent\"><img src=\"https://colab.research.google.com/assets/colab-badge.svg\" alt=\"Open In Colab\"/></a>"
      ]
    },
    {
      "cell_type": "code",
      "execution_count": 1,
      "metadata": {
        "id": "x_X7fMCGsCbb"
      },
      "outputs": [],
      "source": [
        "import torch\n",
        "import torch.nn as nn\n",
        "import torch.optim as optim\n",
        "import torchvision.datasets as dset\n",
        "import torchvision.transforms as transforms\n",
        "from torch.utils.data import DataLoader\n",
        "from torch.autograd import Variable\n",
        "import matplotlib.pyplot as plt\n",
        "%matplotlib inline\n",
        "import numpy as np"
      ]
    },
    {
      "cell_type": "markdown",
      "metadata": {
        "id": "nFPhulYwux0R"
      },
      "source": [
        "1. MNIST train, test dataset 가져오기"
      ]
    },
    {
      "cell_type": "code",
      "execution_count": 2,
      "metadata": {
        "id": "jFcrTo3iu0uA",
        "colab": {
          "base_uri": "https://localhost:8080/"
        },
        "outputId": "605baf5b-020b-4b58-941f-7be3d738ebb6"
      },
      "outputs": [
        {
          "output_type": "stream",
          "name": "stdout",
          "text": [
            "Downloading http://yann.lecun.com/exdb/mnist/train-images-idx3-ubyte.gz\n",
            "Failed to download (trying next):\n",
            "HTTP Error 403: Forbidden\n",
            "\n",
            "Downloading https://ossci-datasets.s3.amazonaws.com/mnist/train-images-idx3-ubyte.gz\n",
            "Downloading https://ossci-datasets.s3.amazonaws.com/mnist/train-images-idx3-ubyte.gz to MNIST/raw/train-images-idx3-ubyte.gz\n"
          ]
        },
        {
          "output_type": "stream",
          "name": "stderr",
          "text": [
            "100%|██████████| 9912422/9912422 [00:00<00:00, 17155291.31it/s]\n"
          ]
        },
        {
          "output_type": "stream",
          "name": "stdout",
          "text": [
            "Extracting MNIST/raw/train-images-idx3-ubyte.gz to MNIST/raw\n",
            "\n",
            "Downloading http://yann.lecun.com/exdb/mnist/train-labels-idx1-ubyte.gz\n",
            "Failed to download (trying next):\n",
            "HTTP Error 403: Forbidden\n",
            "\n",
            "Downloading https://ossci-datasets.s3.amazonaws.com/mnist/train-labels-idx1-ubyte.gz\n",
            "Downloading https://ossci-datasets.s3.amazonaws.com/mnist/train-labels-idx1-ubyte.gz to MNIST/raw/train-labels-idx1-ubyte.gz\n"
          ]
        },
        {
          "output_type": "stream",
          "name": "stderr",
          "text": [
            "100%|██████████| 28881/28881 [00:00<00:00, 488515.38it/s]\n"
          ]
        },
        {
          "output_type": "stream",
          "name": "stdout",
          "text": [
            "Extracting MNIST/raw/train-labels-idx1-ubyte.gz to MNIST/raw\n",
            "\n",
            "Downloading http://yann.lecun.com/exdb/mnist/t10k-images-idx3-ubyte.gz\n",
            "Failed to download (trying next):\n",
            "HTTP Error 403: Forbidden\n",
            "\n",
            "Downloading https://ossci-datasets.s3.amazonaws.com/mnist/t10k-images-idx3-ubyte.gz\n",
            "Downloading https://ossci-datasets.s3.amazonaws.com/mnist/t10k-images-idx3-ubyte.gz to MNIST/raw/t10k-images-idx3-ubyte.gz\n"
          ]
        },
        {
          "output_type": "stream",
          "name": "stderr",
          "text": [
            "100%|██████████| 1648877/1648877 [00:00<00:00, 4437285.72it/s]\n"
          ]
        },
        {
          "output_type": "stream",
          "name": "stdout",
          "text": [
            "Extracting MNIST/raw/t10k-images-idx3-ubyte.gz to MNIST/raw\n",
            "\n",
            "Downloading http://yann.lecun.com/exdb/mnist/t10k-labels-idx1-ubyte.gz\n",
            "Failed to download (trying next):\n",
            "HTTP Error 403: Forbidden\n",
            "\n",
            "Downloading https://ossci-datasets.s3.amazonaws.com/mnist/t10k-labels-idx1-ubyte.gz\n",
            "Downloading https://ossci-datasets.s3.amazonaws.com/mnist/t10k-labels-idx1-ubyte.gz to MNIST/raw/t10k-labels-idx1-ubyte.gz\n"
          ]
        },
        {
          "output_type": "stream",
          "name": "stderr",
          "text": [
            "100%|██████████| 4542/4542 [00:00<00:00, 453724.46it/s]\n"
          ]
        },
        {
          "output_type": "stream",
          "name": "stdout",
          "text": [
            "Extracting MNIST/raw/t10k-labels-idx1-ubyte.gz to MNIST/raw\n",
            "\n"
          ]
        }
      ],
      "source": [
        "mnist_train = dset.MNIST(\"\", train=True, transform = transforms.ToTensor(), target_transform = None, download=True)\n",
        "mnist_test = dset.MNIST(\"\", train=False, transform = transforms.ToTensor(), target_transform = None, download=True)"
      ]
    },
    {
      "cell_type": "markdown",
      "metadata": {
        "id": "dGMytrXDvHIT"
      },
      "source": [
        "2. 대략적인 데이터 형태"
      ]
    },
    {
      "cell_type": "code",
      "execution_count": 3,
      "metadata": {
        "colab": {
          "base_uri": "https://localhost:8080/",
          "height": 525
        },
        "id": "N7d0DgHlvGc0",
        "outputId": "10cb1ddb-6286-4a7d-8c9e-2acffa85d009"
      },
      "outputs": [
        {
          "output_type": "stream",
          "name": "stdout",
          "text": [
            "mnist_train 길이:  60000\n",
            "mnist_test 길이:  10000\n",
            "image data 형태:  torch.Size([1, 28, 28])\n",
            "label:  5\n"
          ]
        },
        {
          "output_type": "display_data",
          "data": {
            "text/plain": [
              "<Figure size 640x480 with 1 Axes>"
            ],
            "image/png": "[encoded data removed]"
          },
          "metadata": {}
        }
      ],
      "source": [
        "print (\"mnist_train 길이: \", len(mnist_train))\n",
        "print (\"mnist_test 길이: \", len(mnist_test))\n",
        "\n",
        "image, label = mnist_train.__getitem__(0)\n",
        "print (\"image data 형태: \", image.size())\n",
        "print (\"label: \", label)\n",
        "\n",
        "img = image.numpy()\n",
        "plt.title(\"label: %d\" %label)\n",
        "plt.imshow(img[0], cmap='gray')\n",
        "plt.show()"
      ]
    },
    {
      "cell_type": "markdown",
      "metadata": {
        "id": "Cr9XHukxvwi0"
      },
      "source": [
        "3. 데이터 로드함수"
      ]
    },
    {
      "cell_type": "code",
      "execution_count": 4,
      "metadata": {
        "id": "RTqaPw8uvycb"
      },
      "outputs": [],
      "source": [
        "batch_size = 1024\n",
        "learning_rate = 0.01\n",
        "num_epochs = 400"
      ]
    },
    {
      "cell_type": "code",
      "execution_count": 5,
      "metadata": {
        "id": "-fivCCGRv8fR"
      },
      "outputs": [],
      "source": [
        "train_loader = torch.utils.data.DataLoader(mnist_train, batch_size = batch_size, shuffle = True, num_workers=2, drop_last = True)\n",
        "test_loader = torch.utils.data.DataLoader(mnist_test, batch_size = batch_size, shuffle = False, num_workers=2, drop_last = True)"
      ]
    },
    {
      "cell_type": "markdown",
      "metadata": {
        "id": "bN0tQKqBwR48"
      },
      "source": [
        "데이터 로드함수 이해하기"
      ]
    },
    {
      "cell_type": "code",
      "execution_count": 6,
      "metadata": {
        "colab": {
          "base_uri": "https://localhost:8080/",
          "height": 1000
        },
        "id": "C9Kf8OAswTf2",
        "outputId": "75fa6b7c-6c1e-49df-a17f-b9c44ae36cf0"
      },
      "outputs": [
        {
          "output_type": "stream",
          "name": "stderr",
          "text": [
            "/usr/lib/python3.10/multiprocessing/popen_fork.py:66: RuntimeWarning: os.fork() was called. os.fork() is incompatible with multithreaded code, and JAX is multithreaded, so this will likely lead to a deadlock.\n",
            "  self.pid = os.fork()\n"
          ]
        },
        {
          "output_type": "stream",
          "name": "stdout",
          "text": [
            "[0]\n",
            "한 번에 로드되는 데이터 크기:  1024\n"
          ]
        },
        {
          "output_type": "display_data",
          "data": {
            "text/plain": [
              "<Figure size 640x480 with 3 Axes>"
            ],
            "image/png": "[encoded data removed]"
          },
          "metadata": {}
        },
        {
          "output_type": "stream",
          "name": "stdout",
          "text": [
            "[1]\n",
            "한 번에 로드되는 데이터 크기:  1024\n"
          ]
        },
        {
          "output_type": "display_data",
          "data": {
            "text/plain": [
              "<Figure size 640x480 with 3 Axes>"
            ],
            "image/png": "[encoded data removed]"
          },
          "metadata": {}
        },
        {
          "output_type": "stream",
          "name": "stdout",
          "text": [
            "[2]\n",
            "한 번에 로드되는 데이터 크기:  1024\n"
          ]
        },
        {
          "output_type": "display_data",
          "data": {
            "text/plain": [
              "<Figure size 640x480 with 3 Axes>"
            ],
            "image/png": "[encoded data removed]"
          },
          "metadata": {}
        },
        {
          "output_type": "stream",
          "name": "stdout",
          "text": [
            "[3]\n",
            "한 번에 로드되는 데이터 크기:  1024\n"
          ]
        },
        {
          "output_type": "display_data",
          "data": {
            "text/plain": [
              "<Figure size 640x480 with 3 Axes>"
            ],
            "image/png": "[encoded data removed]"
          },
          "metadata": {}
        },
        {
          "output_type": "stream",
          "name": "stdout",
          "text": [
            "[4]\n",
            "한 번에 로드되는 데이터 크기:  1024\n"
          ]
        },
        {
          "output_type": "display_data",
          "data": {
            "text/plain": [
              "<Figure size 640x480 with 3 Axes>"
            ],
            "image/png": "[encoded data removed]"
          },
          "metadata": {}
        },
        {
          "output_type": "stream",
          "name": "stdout",
          "text": [
            "[5]\n",
            "한 번에 로드되는 데이터 크기:  1024\n"
          ]
        },
        {
          "output_type": "display_data",
          "data": {
            "text/plain": [
              "<Figure size 640x480 with 3 Axes>"
            ],
            "image/png": "[encoded data removed]"
          },
          "metadata": {}
        }
      ],
      "source": [
        "n = 3\n",
        "for i, [imgs, labels] in enumerate(test_loader):\n",
        "    if i > 5:\n",
        "        break\n",
        "    print (\"[%d]\" %i)\n",
        "    print (\"한 번에 로드되는 데이터 크기: \", len(imgs))\n",
        "\n",
        "    for j in range(n):\n",
        "        img = imgs[j].numpy()\n",
        "        img = img.reshape((img.shape[1], img.shape[2]))\n",
        "\n",
        "        plt.subplot(1, n, j+1)\n",
        "        plt.imshow(img, cmap = \"gray\")\n",
        "        plt.title(\"label: %d\" %labels[j])\n",
        "    plt.show()"
      ]
    },
    {
      "cell_type": "markdown",
      "metadata": {
        "id": "hIRBXya4xDTL"
      },
      "source": [
        "4. 모델 선언"
      ]
    },
    {
      "cell_type": "code",
      "execution_count": 7,
      "metadata": {
        "id": "d4kf2OGjxE-l"
      },
      "outputs": [],
      "source": [
        "model = nn.Sequential(\n",
        "    nn.Linear(28 * 28, 256),\n",
        "    nn.Sigmoid(),\n",
        "    nn.Linear(256, 128),\n",
        "    nn.Linear(128, 10)\n",
        ")"
      ]
    },
    {
      "cell_type": "code",
      "execution_count": 8,
      "metadata": {
        "id": "_GM4Tt4mxWz5"
      },
      "outputs": [],
      "source": [
        "def ComputeAccr(dloader, imodel):\n",
        "    correct = 0\n",
        "    total = 0\n",
        "\n",
        "    for j, [imgs, labels] in enumerate(dloader):\n",
        "        img = imgs\n",
        "        label = Variable(labels)\n",
        "\n",
        "        img = img.reshape((img.shape[0], img.shape[2], img.shape[3]))\n",
        "        img = img.reshape((img.shape[0], img.shape[1] * img.shape[2]))\n",
        "        img = Variable(img, requires_grad = False)\n",
        "\n",
        "        output = imodel(img)\n",
        "        _, output_index = torch.max(output, 1)\n",
        "\n",
        "        total += label.size(0)\n",
        "        correct += (output_index == label).sum().float()\n",
        "    print (\"Accuracy of Test Data: {}\".format(100 * correct / total))"
      ]
    },
    {
      "cell_type": "code",
      "execution_count": 9,
      "metadata": {
        "colab": {
          "base_uri": "https://localhost:8080/"
        },
        "id": "D2yBb83tx9cI",
        "outputId": "d32b4b62-44ed-45a1-cfa3-59b78de68de4"
      },
      "outputs": [
        {
          "output_type": "stream",
          "name": "stdout",
          "text": [
            "Accuracy of Test Data: 9.765625\n"
          ]
        }
      ],
      "source": [
        "ComputeAccr(test_loader, model)"
      ]
    },
    {
      "cell_type": "markdown",
      "metadata": {
        "id": "uQQGzdgqyJAB"
      },
      "source": [
        "5. loss, optimizer"
      ]
    },
    {
      "cell_type": "code",
      "execution_count": 10,
      "metadata": {
        "id": "WkU6yFkFyA5V"
      },
      "outputs": [],
      "source": [
        "loss_func = nn.CrossEntropyLoss()\n",
        "optimizer = optim.SGD(model.parameters(), lr = learning_rate)"
      ]
    },
    {
      "cell_type": "markdown",
      "metadata": {
        "id": "RC_WpwX2yLyu"
      },
      "source": [
        "6. 학습"
      ]
    },
    {
      "cell_type": "code",
      "execution_count": 11,
      "metadata": {
        "colab": {
          "base_uri": "https://localhost:8080/"
        },
        "id": "-GfHQnVpyHxJ",
        "outputId": "4564f9f6-f77d-4d0f-eafe-b4e483a636af"
      },
      "outputs": [
        {
          "output_type": "stream",
          "name": "stdout",
          "text": [
            "0..\n",
            "Accuracy of Test Data: 11.295573234558105\n",
            "tensor(2.2929, grad_fn=<NllLossBackward0>)\n",
            "50..\n",
            "Accuracy of Test Data: 81.03298950195312\n",
            "tensor(0.6559, grad_fn=<NllLossBackward0>)\n",
            "100..\n",
            "Accuracy of Test Data: 88.23784637451172\n",
            "tensor(0.3982, grad_fn=<NllLossBackward0>)\n",
            "150..\n",
            "Accuracy of Test Data: 89.96310424804688\n",
            "tensor(0.3534, grad_fn=<NllLossBackward0>)\n",
            "200..\n",
            "Accuracy of Test Data: 90.74435424804688\n",
            "tensor(0.3316, grad_fn=<NllLossBackward0>)\n",
            "250..\n",
            "Accuracy of Test Data: 91.31944274902344\n",
            "tensor(0.2991, grad_fn=<NllLossBackward0>)\n",
            "300..\n",
            "Accuracy of Test Data: 91.62326049804688\n",
            "tensor(0.2973, grad_fn=<NllLossBackward0>)\n",
            "350..\n",
            "Accuracy of Test Data: 91.91622924804688\n",
            "tensor(0.2924, grad_fn=<NllLossBackward0>)\n"
          ]
        }
      ],
      "source": [
        "num_epoch = 400\n",
        "for i in range(num_epoch):\n",
        "    for j, [imgs, labels] in enumerate(train_loader):\n",
        "      img = imgs\n",
        "      label = Variable(labels)\n",
        "\n",
        "      img = img.reshape((img.shape[0], img.shape[2], img.shape[3]))\n",
        "      img = img.reshape((img.shape[0], img.shape[1] * img.shape[2]))\n",
        "      img = Variable(img, requires_grad = True)\n",
        "\n",
        "      optimizer.zero_grad()\n",
        "      output = model(img)\n",
        "      loss = loss_func(output, label)\n",
        "\n",
        "      loss.backward()\n",
        "      optimizer.step()\n",
        "\n",
        "    if i % 50 == 0:\n",
        "      print (\"%d..\" %i)\n",
        "      ComputeAccr(test_loader, model)\n",
        "      print (loss)"
      ]
    },
    {
      "cell_type": "markdown",
      "metadata": {
        "id": "iffALtJ-zorC"
      },
      "source": [
        "7. 테스트"
      ]
    },
    {
      "cell_type": "code",
      "execution_count": 12,
      "metadata": {
        "id": "C_Cu3GCTzqUG",
        "colab": {
          "base_uri": "https://localhost:8080/"
        },
        "outputId": "d22d1cfe-847f-4144-9766-1206891bced8"
      },
      "outputs": [
        {
          "output_type": "stream",
          "name": "stdout",
          "text": [
            "Accuracy of Test Data: 92.07899475097656\n"
          ]
        }
      ],
      "source": [
        "ComputeAccr(test_loader, model)"
      ]
    },
    {
      "cell_type": "markdown",
      "metadata": {
        "id": "EHGPawkC2Hpv"
      },
      "source": [
        "8. 학습된 파라미터 저장"
      ]
    },
    {
      "cell_type": "code",
      "execution_count": 14,
      "metadata": {
        "id": "R0wJVlSrzslw"
      },
      "outputs": [],
      "source": [
        "netname = \"model.pkl\"\n",
        "torch.save(model, netname, )"
      ]
    },
    {
      "cell_type": "markdown",
      "metadata": {
        "id": "QtkLIuQ61BA_"
      },
      "source": [
        "9. (Optional) 실습 1에 쓰인 .npz 만드려면?"
      ]
    },
    {
      "cell_type": "code",
      "execution_count": 18,
      "metadata": {
        "id": "4gbs9eq31G3l",
        "colab": {
          "base_uri": "https://localhost:8080/",
          "height": 200
        },
        "outputId": "06527a06-ac6d-49ca-b6d7-b0c4e2757bef"
      },
      "outputs": [
        {
          "output_type": "error",
          "ename": "NameError",
          "evalue": "name 'W1' is not defined",
          "traceback": [
            "\u001b[0;31m---------------------------------------------------------------------------\u001b[0m",
            "\u001b[0;31mNameError\u001b[0m                                 Traceback (most recent call last)",
            "\u001b[0;32m<ipython-input-18-7f4020d282c0>\u001b[0m in \u001b[0;36m<cell line: 1>\u001b[0;34m()\u001b[0m\n\u001b[1;32m      1\u001b[0m np.savez_compressed(\"./nets/mlp_weight.npz\",\n\u001b[0;32m----> 2\u001b[0;31m                     \u001b[0mW1\u001b[0m \u001b[0;34m=\u001b[0m \u001b[0mW1\u001b[0m\u001b[0;34m,\u001b[0m \u001b[0mb1\u001b[0m \u001b[0;34m=\u001b[0m \u001b[0mb1\u001b[0m\u001b[0;34m,\u001b[0m\u001b[0;34m\u001b[0m\u001b[0;34m\u001b[0m\u001b[0m\n\u001b[0m\u001b[1;32m      3\u001b[0m                     \u001b[0mW2\u001b[0m \u001b[0;34m=\u001b[0m \u001b[0mW2\u001b[0m\u001b[0;34m,\u001b[0m \u001b[0mb2\u001b[0m \u001b[0;34m=\u001b[0m \u001b[0mb2\u001b[0m\u001b[0;34m,\u001b[0m\u001b[0;34m\u001b[0m\u001b[0;34m\u001b[0m\u001b[0m\n\u001b[1;32m      4\u001b[0m                     W3 = W3, b3 = b3)\n",
            "\u001b[0;31mNameError\u001b[0m: name 'W1' is not defined"
          ]
        }
      ],
      "source": [
        "np.savez_compressed(\"./nets/mlp_weight.npz\",\n",
        "                    W1 = W1, b1 = b1,\n",
        "                    W2 = W2, b2 = b2,\n",
        "                    W3 = W3, b3 = b3)"
      ]
    }
  ],
  "metadata": {
    "colab": {
      "provenance": [],
      "authorship_tag": "ABX9TyP+tpE7vz0Emn5IWekL08MT",
      "include_colab_link": true
    },
    "kernelspec": {
      "display_name": "Python 3",
      "name": "python3"
    },
    "language_info": {
      "name": "python"
    }
  },
  "nbformat": 4,
  "nbformat_minor": 0
}